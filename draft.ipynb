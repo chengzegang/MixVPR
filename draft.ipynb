{
 "cells": [
  {
   "cell_type": "code",
   "execution_count": 5,
   "metadata": {},
   "outputs": [],
   "source": [
    "import scipy.io as sio\n",
    "import os\n",
    "from visual_places import VisualPlace\n",
    "import glob\n",
    "import numpy as np\n",
    "root = '/mnt/d/datasets/nyuvpr/run_0/'\n",
    "mat_path = os.path.join(root, \"gt_pose.mat\")\n",
    "mat = sio.loadmat(mat_path)\n",
    "coords = mat[\"pose\"]\n",
    "paths = glob.glob(os.path.join(root, \"*.png\"))\n",
    "paths.sort(key=lambda x: int(os.path.basename(x).split(\"_\")[1]))\n",
    "t = np.arange(len(paths))\n",
    "dataset = VisualPlace.from_metadata(\n",
    "    paths, coords, t, spatial_radius=0.25, temporal_radius=5\n",
    ")\n"
   ]
  },
  {
   "cell_type": "code",
   "execution_count": 4,
   "metadata": {},
   "outputs": [
    {
     "data": {
      "text/plain": [
       "(24987, 2)"
      ]
     },
     "execution_count": 4,
     "metadata": {},
     "output_type": "execute_result"
    }
   ],
   "source": [
    "mat[\"pose\"].shape"
   ]
  },
  {
   "cell_type": "code",
   "execution_count": null,
   "metadata": {},
   "outputs": [],
   "source": []
  }
 ],
 "metadata": {
  "kernelspec": {
   "display_name": "Python 3",
   "language": "python",
   "name": "python3"
  },
  "language_info": {
   "codemirror_mode": {
    "name": "ipython",
    "version": 3
   },
   "file_extension": ".py",
   "mimetype": "text/x-python",
   "name": "python",
   "nbconvert_exporter": "python",
   "pygments_lexer": "ipython3",
   "version": "3.10.12"
  }
 },
 "nbformat": 4,
 "nbformat_minor": 2
}
