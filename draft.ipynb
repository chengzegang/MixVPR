{
 "cells": [
  {
   "cell_type": "code",
   "execution_count": null,
   "metadata": {},
   "outputs": [],
   "source": [
    "import pandas as pd\n",
    "import numpy as np\n",
    "import torch\n",
    "import os\n",
    "import glob\n",
    "root = '/mnt/f/datasets/MSLS/train_val/'\n"
   ]
  },
  {
   "cell_type": "code",
   "execution_count": null,
   "metadata": {},
   "outputs": [],
   "source": [
    "cities = os.listdir(root)\n",
    "cities = [os.path.join(root, city) for city in cities]\n",
    "os.listdir(cities[0])"
   ]
  },
  {
   "cell_type": "code",
   "execution_count": 72,
   "metadata": {},
   "outputs": [
    {
     "data": {
      "text/html": [
       "<div>\n",
       "<style scoped>\n",
       "    .dataframe tbody tr th:only-of-type {\n",
       "        vertical-align: middle;\n",
       "    }\n",
       "\n",
       "    .dataframe tbody tr th {\n",
       "        vertical-align: top;\n",
       "    }\n",
       "\n",
       "    .dataframe thead th {\n",
       "        text-align: right;\n",
       "    }\n",
       "</style>\n",
       "<table border=\"1\" class=\"dataframe\">\n",
       "  <thead>\n",
       "    <tr style=\"text-align: right;\">\n",
       "      <th></th>\n",
       "      <th>id</th>\n",
       "      <th>path</th>\n",
       "      <th>sadj</th>\n",
       "      <th>tadj</th>\n",
       "    </tr>\n",
       "  </thead>\n",
       "  <tbody>\n",
       "    <tr>\n",
       "      <th>22</th>\n",
       "      <td>0</td>\n",
       "      <td>/mnt/f/datasets/MSLS/train_val/amman/images/ot...</td>\n",
       "      <td>[0, 1, 2, 3, 4, 5, 6, 7, 8, 9, 10, 11, 12, 13,...</td>\n",
       "      <td>[0, 1, 2, 3, 4, 5]</td>\n",
       "    </tr>\n",
       "    <tr>\n",
       "      <th>23</th>\n",
       "      <td>1</td>\n",
       "      <td>/mnt/f/datasets/MSLS/train_val/amman/images/B6...</td>\n",
       "      <td>[0, 1, 2, 3, 4, 5, 6, 7, 8, 9, 10, 11, 12, 13,...</td>\n",
       "      <td>[0, 1, 2, 3, 4, 5, 6]</td>\n",
       "    </tr>\n",
       "    <tr>\n",
       "      <th>24</th>\n",
       "      <td>2</td>\n",
       "      <td>/mnt/f/datasets/MSLS/train_val/amman/images/7h...</td>\n",
       "      <td>[0, 1, 2, 3, 4, 5, 6, 7, 8, 9, 10, 11, 12, 13,...</td>\n",
       "      <td>[0, 1, 2, 3, 4, 5, 6, 7]</td>\n",
       "    </tr>\n",
       "    <tr>\n",
       "      <th>25</th>\n",
       "      <td>3</td>\n",
       "      <td>/mnt/f/datasets/MSLS/train_val/amman/images/8M...</td>\n",
       "      <td>[0, 1, 2, 3, 4, 5, 6, 7, 8, 9, 10, 11, 12, 13,...</td>\n",
       "      <td>[0, 1, 2, 3, 4, 5, 6, 7, 8]</td>\n",
       "    </tr>\n",
       "    <tr>\n",
       "      <th>26</th>\n",
       "      <td>4</td>\n",
       "      <td>/mnt/f/datasets/MSLS/train_val/amman/images/wl...</td>\n",
       "      <td>[0, 1, 2, 3, 4, 5, 6, 7, 8, 9, 10, 11, 12, 13,...</td>\n",
       "      <td>[0, 1, 2, 3, 4, 5, 6, 7, 8, 9]</td>\n",
       "    </tr>\n",
       "    <tr>\n",
       "      <th>...</th>\n",
       "      <td>...</td>\n",
       "      <td>...</td>\n",
       "      <td>...</td>\n",
       "      <td>...</td>\n",
       "    </tr>\n",
       "    <tr>\n",
       "      <th>1783</th>\n",
       "      <td>948</td>\n",
       "      <td>/mnt/f/datasets/MSLS/train_val/amman/images/8h...</td>\n",
       "      <td>[947, 948, 949, 950, 951, 952]</td>\n",
       "      <td>[947, 948, 949, 950, 951, 952]</td>\n",
       "    </tr>\n",
       "    <tr>\n",
       "      <th>1784</th>\n",
       "      <td>949</td>\n",
       "      <td>/mnt/f/datasets/MSLS/train_val/amman/images/7D...</td>\n",
       "      <td>[947, 948, 949, 950, 951, 952]</td>\n",
       "      <td>[947, 948, 949, 950, 951, 952]</td>\n",
       "    </tr>\n",
       "    <tr>\n",
       "      <th>1785</th>\n",
       "      <td>950</td>\n",
       "      <td>/mnt/f/datasets/MSLS/train_val/amman/images/ap...</td>\n",
       "      <td>[947, 948, 949, 950, 951, 952]</td>\n",
       "      <td>[947, 948, 949, 950, 951, 952]</td>\n",
       "    </tr>\n",
       "    <tr>\n",
       "      <th>1786</th>\n",
       "      <td>951</td>\n",
       "      <td>/mnt/f/datasets/MSLS/train_val/amman/images/gz...</td>\n",
       "      <td>[947, 948, 949, 950, 951, 952]</td>\n",
       "      <td>[947, 948, 949, 950, 951, 952]</td>\n",
       "    </tr>\n",
       "    <tr>\n",
       "      <th>1787</th>\n",
       "      <td>952</td>\n",
       "      <td>/mnt/f/datasets/MSLS/train_val/amman/images/00...</td>\n",
       "      <td>[947, 948, 949, 950, 951, 952]</td>\n",
       "      <td>[947, 948, 949, 950, 951, 952]</td>\n",
       "    </tr>\n",
       "  </tbody>\n",
       "</table>\n",
       "<p>953 rows × 4 columns</p>\n",
       "</div>"
      ],
      "text/plain": [
       "       id                                               path  \\\n",
       "22      0  /mnt/f/datasets/MSLS/train_val/amman/images/ot...   \n",
       "23      1  /mnt/f/datasets/MSLS/train_val/amman/images/B6...   \n",
       "24      2  /mnt/f/datasets/MSLS/train_val/amman/images/7h...   \n",
       "25      3  /mnt/f/datasets/MSLS/train_val/amman/images/8M...   \n",
       "26      4  /mnt/f/datasets/MSLS/train_val/amman/images/wl...   \n",
       "...   ...                                                ...   \n",
       "1783  948  /mnt/f/datasets/MSLS/train_val/amman/images/8h...   \n",
       "1784  949  /mnt/f/datasets/MSLS/train_val/amman/images/7D...   \n",
       "1785  950  /mnt/f/datasets/MSLS/train_val/amman/images/ap...   \n",
       "1786  951  /mnt/f/datasets/MSLS/train_val/amman/images/gz...   \n",
       "1787  952  /mnt/f/datasets/MSLS/train_val/amman/images/00...   \n",
       "\n",
       "                                                   sadj  \\\n",
       "22    [0, 1, 2, 3, 4, 5, 6, 7, 8, 9, 10, 11, 12, 13,...   \n",
       "23    [0, 1, 2, 3, 4, 5, 6, 7, 8, 9, 10, 11, 12, 13,...   \n",
       "24    [0, 1, 2, 3, 4, 5, 6, 7, 8, 9, 10, 11, 12, 13,...   \n",
       "25    [0, 1, 2, 3, 4, 5, 6, 7, 8, 9, 10, 11, 12, 13,...   \n",
       "26    [0, 1, 2, 3, 4, 5, 6, 7, 8, 9, 10, 11, 12, 13,...   \n",
       "...                                                 ...   \n",
       "1783                     [947, 948, 949, 950, 951, 952]   \n",
       "1784                     [947, 948, 949, 950, 951, 952]   \n",
       "1785                     [947, 948, 949, 950, 951, 952]   \n",
       "1786                     [947, 948, 949, 950, 951, 952]   \n",
       "1787                     [947, 948, 949, 950, 951, 952]   \n",
       "\n",
       "                                tadj  \n",
       "22                [0, 1, 2, 3, 4, 5]  \n",
       "23             [0, 1, 2, 3, 4, 5, 6]  \n",
       "24          [0, 1, 2, 3, 4, 5, 6, 7]  \n",
       "25       [0, 1, 2, 3, 4, 5, 6, 7, 8]  \n",
       "26    [0, 1, 2, 3, 4, 5, 6, 7, 8, 9]  \n",
       "...                              ...  \n",
       "1783  [947, 948, 949, 950, 951, 952]  \n",
       "1784  [947, 948, 949, 950, 951, 952]  \n",
       "1785  [947, 948, 949, 950, 951, 952]  \n",
       "1786  [947, 948, 949, 950, 951, 952]  \n",
       "1787  [947, 948, 949, 950, 951, 952]  \n",
       "\n",
       "[953 rows x 4 columns]"
      ]
     },
     "execution_count": 72,
     "metadata": {},
     "output_type": "execute_result"
    }
   ],
   "source": [
    "def build_msls_city_metadata(city_path: str, temporal_radius: float =5.0, **kwargs):\n",
    "    postprocessed = os.path.join(city_path, 'database', 'postprocessed.csv')\n",
    "    seq_info = os.path.join(city_path, 'database', 'seq_info.csv')\n",
    "    image_folder = os.path.join(city_path, 'images')\n",
    "    df_postprocessed = pd.read_csv(postprocessed, index_col=0)\n",
    "    df_seq_info = pd.read_csv(seq_info, index_col=0)\n",
    "\n",
    "    spatial_groups = df_postprocessed.groupby('unique_cluster').groups\n",
    "    temporal_groups = df_seq_info.groupby('sequence_key').groups\n",
    "\n",
    "    paths = df_postprocessed['key'].apply(lambda x: os.path.join(image_folder, x + '.jpg')).tolist()\n",
    "    sadj = df_postprocessed['unique_cluster'].apply(lambda x: spatial_groups[x].tolist()).tolist()\n",
    "    tadj = df_seq_info['sequence_key'].apply(lambda x: temporal_groups[x])\n",
    "    frame_number = df_seq_info['frame_number']\n",
    "\n",
    "    for i, ta in tadj.items():\n",
    "        filtered_ta = []\n",
    "        for t in ta:\n",
    "            if abs(frame_number[t] - frame_number[i]) <= temporal_radius:\n",
    "                filtered_ta.append(t)\n",
    "        tadj[i] = filtered_ta\n",
    "\n",
    "    index = np.arange(len(paths))\n",
    "    mapping = dict(zip(df_seq_info.index, index))\n",
    "    tadj = tadj.apply(lambda x: [mapping[i] for i in x])\n",
    "    tadj.tolist()\n",
    "    data = pd.DataFrame({\n",
    "        'id': index,\n",
    "        'path': paths,\n",
    "        'sadj': sadj,\n",
    "        'tadj': tadj\n",
    "    })\n",
    "    return data"
   ]
  },
  {
   "cell_type": "code",
   "execution_count": 73,
   "metadata": {},
   "outputs": [],
   "source": [
    "from torch import nn\n",
    "import torch\n",
    "\n",
    "l1 = nn.Linear(512, 512)\n",
    "l2 = nn.Linear(512, 512)\n",
    "l3 = nn.Linear(512, 512)\n",
    "\n"
   ]
  },
  {
   "cell_type": "code",
   "execution_count": 79,
   "metadata": {},
   "outputs": [],
   "source": [
    "x = torch.randn(1, 1, 512)\n",
    "q = l1(x)\n",
    "k = l2(x)\n",
    "v = l3(x)\n",
    "import torch.nn.functional as F\n",
    "\n",
    "o1 = F.scaled_dot_product_attention(q, k, v)"
   ]
  },
  {
   "cell_type": "code",
   "execution_count": 80,
   "metadata": {},
   "outputs": [],
   "source": [
    "y = torch.randn(1, 1, 512)\n",
    "q = l1(y)\n",
    "k = l2(y)\n",
    "o2 = F.scaled_dot_product_attention(q, k, v)"
   ]
  },
  {
   "cell_type": "code",
   "execution_count": 81,
   "metadata": {},
   "outputs": [
    {
     "data": {
      "text/plain": [
       "tensor([[[0., 0., 0., 0., 0., 0., 0., 0., 0., 0., 0., 0., 0., 0., 0., 0., 0., 0., 0., 0., 0., 0., 0.,\n",
       "          0., 0., 0., 0., 0., 0., 0., 0., 0., 0., 0., 0., 0., 0., 0., 0., 0., 0., 0., 0., 0., 0., 0.,\n",
       "          0., 0., 0., 0., 0., 0., 0., 0., 0., 0., 0., 0., 0., 0., 0., 0., 0., 0., 0., 0., 0., 0., 0.,\n",
       "          0., 0., 0., 0., 0., 0., 0., 0., 0., 0., 0., 0., 0., 0., 0., 0., 0., 0., 0., 0., 0., 0., 0.,\n",
       "          0., 0., 0., 0., 0., 0., 0., 0., 0., 0., 0., 0., 0., 0., 0., 0., 0., 0., 0., 0., 0., 0., 0.,\n",
       "          0., 0., 0., 0., 0., 0., 0., 0., 0., 0., 0., 0., 0., 0., 0., 0., 0., 0., 0., 0., 0., 0., 0.,\n",
       "          0., 0., 0., 0., 0., 0., 0., 0., 0., 0., 0., 0., 0., 0., 0., 0., 0., 0., 0., 0., 0., 0., 0.,\n",
       "          0., 0., 0., 0., 0., 0., 0., 0., 0., 0., 0., 0., 0., 0., 0., 0., 0., 0., 0., 0., 0., 0., 0.,\n",
       "          0., 0., 0., 0., 0., 0., 0., 0., 0., 0., 0., 0., 0., 0., 0., 0., 0., 0., 0., 0., 0., 0., 0.,\n",
       "          0., 0., 0., 0., 0., 0., 0., 0., 0., 0., 0., 0., 0., 0., 0., 0., 0., 0., 0., 0., 0., 0., 0.,\n",
       "          0., 0., 0., 0., 0., 0., 0., 0., 0., 0., 0., 0., 0., 0., 0., 0., 0., 0., 0., 0., 0., 0., 0.,\n",
       "          0., 0., 0., 0., 0., 0., 0., 0., 0., 0., 0., 0., 0., 0., 0., 0., 0., 0., 0., 0., 0., 0., 0.,\n",
       "          0., 0., 0., 0., 0., 0., 0., 0., 0., 0., 0., 0., 0., 0., 0., 0., 0., 0., 0., 0., 0., 0., 0.,\n",
       "          0., 0., 0., 0., 0., 0., 0., 0., 0., 0., 0., 0., 0., 0., 0., 0., 0., 0., 0., 0., 0., 0., 0.,\n",
       "          0., 0., 0., 0., 0., 0., 0., 0., 0., 0., 0., 0., 0., 0., 0., 0., 0., 0., 0., 0., 0., 0., 0.,\n",
       "          0., 0., 0., 0., 0., 0., 0., 0., 0., 0., 0., 0., 0., 0., 0., 0., 0., 0., 0., 0., 0., 0., 0.,\n",
       "          0., 0., 0., 0., 0., 0., 0., 0., 0., 0., 0., 0., 0., 0., 0., 0., 0., 0., 0., 0., 0., 0., 0.,\n",
       "          0., 0., 0., 0., 0., 0., 0., 0., 0., 0., 0., 0., 0., 0., 0., 0., 0., 0., 0., 0., 0., 0., 0.,\n",
       "          0., 0., 0., 0., 0., 0., 0., 0., 0., 0., 0., 0., 0., 0., 0., 0., 0., 0., 0., 0., 0., 0., 0.,\n",
       "          0., 0., 0., 0., 0., 0., 0., 0., 0., 0., 0., 0., 0., 0., 0., 0., 0., 0., 0., 0., 0., 0., 0.,\n",
       "          0., 0., 0., 0., 0., 0., 0., 0., 0., 0., 0., 0., 0., 0., 0., 0., 0., 0., 0., 0., 0., 0., 0.,\n",
       "          0., 0., 0., 0., 0., 0., 0., 0., 0., 0., 0., 0., 0., 0., 0., 0., 0., 0., 0., 0., 0., 0., 0.,\n",
       "          0., 0., 0., 0., 0., 0.]]], grad_fn=<SubBackward0>)"
      ]
     },
     "execution_count": 81,
     "metadata": {},
     "output_type": "execute_result"
    }
   ],
   "source": [
    "o1 - o2"
   ]
  },
  {
   "cell_type": "code",
   "execution_count": 68,
   "metadata": {},
   "outputs": [
    {
     "data": {
      "text/plain": [
       "0      [0, 1, 2, 3, 4, 5, 6, 7, 8, 9, 10, 11, 12, 13,...\n",
       "1      [0, 1, 2, 3, 4, 5, 6, 7, 8, 9, 10, 11, 12, 13,...\n",
       "2      [0, 1, 2, 3, 4, 5, 6, 7, 8, 9, 10, 11, 12, 13,...\n",
       "3      [0, 1, 2, 3, 4, 5, 6, 7, 8, 9, 10, 11, 12, 13,...\n",
       "4      [0, 1, 2, 3, 4, 5, 6, 7, 8, 9, 10, 11, 12, 13,...\n",
       "                             ...                        \n",
       "948                       [947, 948, 949, 950, 951, 952]\n",
       "949                       [947, 948, 949, 950, 951, 952]\n",
       "950                       [947, 948, 949, 950, 951, 952]\n",
       "951                       [947, 948, 949, 950, 951, 952]\n",
       "952                       [947, 948, 949, 950, 951, 952]\n",
       "Name: unique_cluster, Length: 953, dtype: object"
      ]
     },
     "execution_count": 68,
     "metadata": {},
     "output_type": "execute_result"
    }
   ],
   "source": [
    "sadj"
   ]
  },
  {
   "cell_type": "code",
   "execution_count": 44,
   "metadata": {},
   "outputs": [
    {
     "name": "stdout",
     "output_type": "stream",
     "text": [
      "0 22\n",
      "0 23\n",
      "0 24\n",
      "0 25\n",
      "0 26\n",
      "0 27\n",
      "0 28\n",
      "0 29\n",
      "0 30\n",
      "0 31\n",
      "0 175\n",
      "0 176\n",
      "0 177\n",
      "0 178\n",
      "0 179\n",
      "0 180\n",
      "0 181\n",
      "0 182\n",
      "0 416\n",
      "0 417\n",
      "0 418\n",
      "0 419\n",
      "0 420\n",
      "0 421\n",
      "0 422\n",
      "0 423\n",
      "0 424\n",
      "0 470\n",
      "0 471\n",
      "0 472\n",
      "0 473\n",
      "0 474\n",
      "0 475\n",
      "0 476\n",
      "0 477\n",
      "0 818\n",
      "0 819\n",
      "0 820\n",
      "0 821\n",
      "0 822\n",
      "0 823\n",
      "0 824\n",
      "0 1377\n"
     ]
    },
    {
     "ename": "IndexError",
     "evalue": "index 1377 is out of bounds for axis 0 with size 953",
     "output_type": "error",
     "traceback": [
      "\u001b[0;31m---------------------------------------------------------------------------\u001b[0m",
      "\u001b[0;31mIndexError\u001b[0m                                Traceback (most recent call last)",
      "\u001b[1;32m/home/zc2309/workspace/MixVPR/draft.ipynb Cell 4\u001b[0m line \u001b[0;36m5\n\u001b[1;32m      <a href='vscode-notebook-cell://wsl%2Bubuntu-22.04/home/zc2309/workspace/MixVPR/draft.ipynb#X14sdnNjb2RlLXJlbW90ZQ%3D%3D?line=2'>3</a>\u001b[0m \u001b[39mfor\u001b[39;00m t \u001b[39min\u001b[39;00m ta:\n\u001b[1;32m      <a href='vscode-notebook-cell://wsl%2Bubuntu-22.04/home/zc2309/workspace/MixVPR/draft.ipynb#X14sdnNjb2RlLXJlbW90ZQ%3D%3D?line=3'>4</a>\u001b[0m     \u001b[39mprint\u001b[39m(i, t)\n\u001b[0;32m----> <a href='vscode-notebook-cell://wsl%2Bubuntu-22.04/home/zc2309/workspace/MixVPR/draft.ipynb#X14sdnNjb2RlLXJlbW90ZQ%3D%3D?line=4'>5</a>\u001b[0m     \u001b[39mif\u001b[39;00m \u001b[39mabs\u001b[39m(frame_number[t] \u001b[39m-\u001b[39m frame_number[i]) \u001b[39m<\u001b[39m\u001b[39m=\u001b[39m temporal_radius:\n\u001b[1;32m      <a href='vscode-notebook-cell://wsl%2Bubuntu-22.04/home/zc2309/workspace/MixVPR/draft.ipynb#X14sdnNjb2RlLXJlbW90ZQ%3D%3D?line=5'>6</a>\u001b[0m         filtered_ta\u001b[39m.\u001b[39mappend(t)\n\u001b[1;32m      <a href='vscode-notebook-cell://wsl%2Bubuntu-22.04/home/zc2309/workspace/MixVPR/draft.ipynb#X14sdnNjb2RlLXJlbW90ZQ%3D%3D?line=6'>7</a>\u001b[0m tadj[i] \u001b[39m=\u001b[39m filtered_ta\n",
      "\u001b[0;31mIndexError\u001b[0m: index 1377 is out of bounds for axis 0 with size 953"
     ]
    }
   ],
   "source": [
    "for i, ta in enumerate(tadj):\n",
    "    filtered_ta = []\n",
    "    for t in ta:\n",
    "        print(i, t)\n",
    "        if abs(frame_number[t] - frame_number[i]) <= temporal_radius:\n",
    "            filtered_ta.append(t)\n",
    "    tadj[i] = filtered_ta"
   ]
  },
  {
   "cell_type": "code",
   "execution_count": null,
   "metadata": {},
   "outputs": [],
   "source": [
    "tadj"
   ]
  },
  {
   "cell_type": "code",
   "execution_count": null,
   "metadata": {},
   "outputs": [],
   "source": [
    "df_seq_info"
   ]
  },
  {
   "cell_type": "code",
   "execution_count": null,
   "metadata": {},
   "outputs": [],
   "source": [
    "df_seq_info.groupby('sequence_key').groups"
   ]
  },
  {
   "cell_type": "code",
   "execution_count": null,
   "metadata": {},
   "outputs": [],
   "source": [
    "images[0]"
   ]
  },
  {
   "cell_type": "code",
   "execution_count": null,
   "metadata": {},
   "outputs": [],
   "source": [
    "groups = df.groupby('unique_cluster').groups\n"
   ]
  },
  {
   "cell_type": "code",
   "execution_count": null,
   "metadata": {},
   "outputs": [],
   "source": [
    "cluster_keys"
   ]
  },
  {
   "cell_type": "code",
   "execution_count": null,
   "metadata": {},
   "outputs": [],
   "source": [
    "os.listdir(database)"
   ]
  },
  {
   "cell_type": "code",
   "execution_count": null,
   "metadata": {},
   "outputs": [],
   "source": [
    "for city in cities:\n",
    "    database = os.path.join(city, 'database')\n",
    "    query = os.path.join(city, 'query')\n",
    "    "
   ]
  }
 ],
 "metadata": {
  "kernelspec": {
   "display_name": "Python 3",
   "language": "python",
   "name": "python3"
  },
  "language_info": {
   "codemirror_mode": {
    "name": "ipython",
    "version": 3
   },
   "file_extension": ".py",
   "mimetype": "text/x-python",
   "name": "python",
   "nbconvert_exporter": "python",
   "pygments_lexer": "ipython3",
   "version": "3.10.12"
  }
 },
 "nbformat": 4,
 "nbformat_minor": 2
}
